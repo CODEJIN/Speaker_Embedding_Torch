{
 "cells": [
  {
   "cell_type": "code",
   "execution_count": 1,
   "metadata": {},
   "outputs": [
    {
     "data": {
      "text/plain": [
       "<BackgroundJob #0: <bound method BaseEventLoop.run_forever of <_WindowsSelectorEventLoop running=True closed=False debug=False>>>"
      ]
     },
     "execution_count": 1,
     "metadata": {},
     "output_type": "execute_result"
    }
   ],
   "source": [
    "import asyncio\n",
    "from IPython.lib import backgroundjobs as bg\n",
    "jobs = bg.BackgroundJobManager()\n",
    "jobs.new(asyncio.get_event_loop().run_forever)"
   ]
  },
  {
   "cell_type": "code",
   "execution_count": 2,
   "metadata": {},
   "outputs": [],
   "source": [
    "from Inference import Inferencer"
   ]
  },
  {
   "cell_type": "code",
   "execution_count": 3,
   "metadata": {},
   "outputs": [],
   "source": [
    "inferencer = Inferencer(\n",
    "    hp_path= 'Hyper_Parameters.yaml',\n",
    "    checkpoint_path= './data/results/GE2E/Checkpoint/S_12000.pt',\n",
    "    batch_size= 32\n",
    "    )"
   ]
  },
  {
   "cell_type": "code",
   "execution_count": 4,
   "metadata": {},
   "outputs": [],
   "source": [
    "paths = [\n",
    "    'temp/ada/wav/ada00001.wav',\n",
    "    'temp/ada/wav/ada00002.wav',\n",
    "    'temp/ada/wav/ada00003.wav',\n",
    "    'temp/ada/wav/ada00004.wav',\n",
    "    'temp/ada/wav/ada00005.wav',\n",
    "    'temp/ada/wav/ada00006.wav',\n",
    "    'temp/ada/wav/ada00007.wav',\n",
    "    'temp/ada/wav/ada00008.wav',\n",
    "    'temp/ada/wav/ada00009.wav',\n",
    "    'temp/ada/wav/ada00010.wav',\n",
    "    'temp/ada/wav/ada00011.wav',\n",
    "    'temp/ada/wav/ada00012.wav',\n",
    "    'temp/ada/wav/ada00013.wav',\n",
    "    'temp/ada/wav/ada00014.wav',\n",
    "    'temp/ada/wav/ada00015.wav',\n",
    "    'temp/ada/wav/ada00016.wav',\n",
    "    'temp/ada/wav/ada00017.wav',\n",
    "    'temp/ada/wav/ada00018.wav',\n",
    "    'temp/ada/wav/ada00019.wav',\n",
    "    'temp/ada/wav/ada00020.wav',\n",
    "    'temp/adb/wav/adb00001.wav',\n",
    "    'temp/adb/wav/adb00002.wav',\n",
    "    'temp/adb/wav/adb00003.wav',\n",
    "    'temp/adb/wav/adb00004.wav',\n",
    "    'temp/adb/wav/adb00005.wav',\n",
    "    'temp/adb/wav/adb00006.wav',\n",
    "    'temp/adb/wav/adb00007.wav',\n",
    "    'temp/adb/wav/adb00008.wav',\n",
    "    'temp/adb/wav/adb00009.wav',\n",
    "    'temp/adb/wav/adb00010.wav',\n",
    "    'temp/adb/wav/adb00011.wav',\n",
    "    'temp/adb/wav/adb00012.wav',\n",
    "    'temp/adb/wav/adb00013.wav',\n",
    "    'temp/adb/wav/adb00014.wav',\n",
    "    'temp/adb/wav/adb00015.wav',\n",
    "    'temp/adb/wav/adb00016.wav',\n",
    "    'temp/adb/wav/adb00017.wav',\n",
    "    'temp/adb/wav/adb00018.wav',\n",
    "    'temp/adb/wav/adb00019.wav',\n",
    "    'temp/adb/wav/adb00020.wav',\n",
    "    'temp/adc/wav/adc00001.wav',\n",
    "    'temp/adc/wav/adc00002.wav',\n",
    "    'temp/adc/wav/adc00003.wav',\n",
    "    'temp/adc/wav/adc00004.wav',\n",
    "    'temp/adc/wav/adc00005.wav',\n",
    "    'temp/adc/wav/adc00006.wav',\n",
    "    'temp/adc/wav/adc00007.wav',\n",
    "    'temp/adc/wav/adc00008.wav',\n",
    "    'temp/adc/wav/adc00009.wav',\n",
    "    'temp/adc/wav/adc00010.wav',\n",
    "    'temp/adc/wav/adc00011.wav',\n",
    "    'temp/adc/wav/adc00012.wav',\n",
    "    'temp/adc/wav/adc00013.wav',\n",
    "    'temp/adc/wav/adc00014.wav',\n",
    "    'temp/adc/wav/adc00015.wav',\n",
    "    'temp/adc/wav/adc00016.wav',\n",
    "    'temp/adc/wav/adc00017.wav',\n",
    "    'temp/adc/wav/adc00018.wav',\n",
    "    'temp/adc/wav/adc00019.wav',\n",
    "    'temp/adc/wav/adc00020.wav',\n",
    "    'temp/add/wav/add00001.wav',\n",
    "    'temp/add/wav/add00002.wav',\n",
    "    'temp/add/wav/add00003.wav',\n",
    "    'temp/add/wav/add00004.wav',\n",
    "    'temp/add/wav/add00005.wav',\n",
    "    'temp/add/wav/add00006.wav',\n",
    "    'temp/add/wav/add00007.wav',\n",
    "    'temp/add/wav/add00008.wav',\n",
    "    'temp/add/wav/add00009.wav',\n",
    "    'temp/add/wav/add00010.wav',\n",
    "    'temp/add/wav/add00011.wav',\n",
    "    'temp/add/wav/add00012.wav',\n",
    "    'temp/add/wav/add00013.wav',\n",
    "    'temp/add/wav/add00014.wav',\n",
    "    'temp/add/wav/add00015.wav',\n",
    "    'temp/add/wav/add00016.wav',\n",
    "    'temp/add/wav/add00017.wav',\n",
    "    'temp/add/wav/add00018.wav',\n",
    "    'temp/add/wav/add00019.wav',\n",
    "    'temp/add/wav/add00020.wav',\n",
    "    ]\n",
    "labels = [path[27:30] for path in paths]"
   ]
  },
  {
   "cell_type": "code",
   "execution_count": 5,
   "metadata": {},
   "outputs": [
    {
     "name": "stderr",
     "output_type": "stream",
     "text": [
      "c:\\Users\\codej\\miniconda3\\lib\\site-packages\\torch\\functional.py:641: UserWarning: stft with return_complex=False is deprecated. In a future pytorch release, stft will return complex tensors for all inputs, and return_complex=False will raise an error.\n",
      "Note: you can still call torch.view_as_real on the complex output to recover the old return format. (Triggered internally at C:\\cb\\pytorch_1000000000000\\work\\aten\\src\\ATen\\native\\SpectralOps.cpp:867.)\n",
      "  return _VF.stft(input, n_fft, hop_length, win_length, window,  # type: ignore[attr-defined]\n"
     ]
    }
   ],
   "source": [
    "inferencer.Inference(\n",
    "    paths= paths,\n",
    "    labels= labels,\n",
    "    tsne_figure_path= 'x.png'\n",
    "    )"
   ]
  }
 ],
 "metadata": {
  "kernelspec": {
   "display_name": "base",
   "language": "python",
   "name": "python3"
  },
  "language_info": {
   "codemirror_mode": {
    "name": "ipython",
    "version": 3
   },
   "file_extension": ".py",
   "mimetype": "text/x-python",
   "name": "python",
   "nbconvert_exporter": "python",
   "pygments_lexer": "ipython3",
   "version": "3.10.9"
  }
 },
 "nbformat": 4,
 "nbformat_minor": 2
}
